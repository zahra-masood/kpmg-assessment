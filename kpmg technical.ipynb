{
 "cells": [
  {
   "cell_type": "code",
   "execution_count": 0,
   "metadata": {
    "application/vnd.databricks.v1+cell": {
     "cellMetadata": {
      "byteLimit": 2048000,
      "rowLimit": 10000
     },
     "inputWidgets": {},
     "nuid": "b97f4ff3-657d-425b-b8e5-81c75be7fca7",
     "showTitle": false,
     "title": ""
    }
   },
   "outputs": [
    {
     "output_type": "display_data",
     "data": {
      "application/vnd.databricks.v1+bamboolib_hint": "{\"pd.DataFrames\": [], \"version\": \"0.0.1\"}",
      "text/plain": []
     },
     "metadata": {},
     "output_type": "display_data"
    }
   ],
   "source": [
    "%python\n",
    "import pandas as pd\n",
    "import requests\n",
    "import json"
   ]
  },
  {
   "cell_type": "markdown",
   "metadata": {
    "application/vnd.databricks.v1+cell": {
     "cellMetadata": {},
     "inputWidgets": {},
     "nuid": "1ddc9395-7845-43bb-b200-3aa73c78c7ed",
     "showTitle": false,
     "title": ""
    }
   },
   "source": [
    "loading in the necessary columns using python pandas"
   ]
  },
  {
   "cell_type": "code",
   "execution_count": 0,
   "metadata": {
    "application/vnd.databricks.v1+cell": {
     "cellMetadata": {
      "byteLimit": 2048000,
      "rowLimit": 10000
     },
     "inputWidgets": {},
     "nuid": "7309e9d5-2574-441e-8277-138f5e76e8d1",
     "showTitle": false,
     "title": ""
    }
   },
   "outputs": [],
   "source": [
    "%python\n",
    "response = requests.get('https://api.tfl.gov.uk/Line/Mode/tube/Status').json()\n",
    "df = pd.json_normalize(response, 'lineStatuses', ['name', 'modified'], record_prefix='_', errors='ignore')\n",
    "df = df[['modified', 'name', '_statusSeverityDescription', '_reason']]\n",
    "df.rename(columns={'modified': 'current_timestamp', 'name': 'line', '_statusSeverityDescription': 'status', '_reason': 'disruption_reason' }, inplace=True)"
   ]
  },
  {
   "cell_type": "code",
   "execution_count": 0,
   "metadata": {
    "application/vnd.databricks.v1+cell": {
     "cellMetadata": {
      "byteLimit": 2048000,
      "rowLimit": 10000
     },
     "inputWidgets": {},
     "nuid": "e12f4c0d-096a-4059-921b-aa24da31259f",
     "showTitle": false,
     "title": ""
    }
   },
   "outputs": [
    {
     "output_type": "display_data",
     "data": {
      "text/html": [
       "<div>\n",
       "<style scoped>\n",
       "    .dataframe tbody tr th:only-of-type {\n",
       "        vertical-align: middle;\n",
       "    }\n",
       "\n",
       "    .dataframe tbody tr th {\n",
       "        vertical-align: top;\n",
       "    }\n",
       "\n",
       "    .dataframe thead th {\n",
       "        text-align: right;\n",
       "    }\n",
       "</style>\n",
       "<table border=\"1\" class=\"dataframe\">\n",
       "  <thead>\n",
       "    <tr style=\"text-align: right;\">\n",
       "      <th></th>\n",
       "      <th>current_timestamp</th>\n",
       "      <th>line</th>\n",
       "      <th>status</th>\n",
       "      <th>disruption_reason</th>\n",
       "    </tr>\n",
       "  </thead>\n",
       "  <tbody>\n",
       "    <tr>\n",
       "      <th>0</th>\n",
       "      <td>2024-05-14T14:35:06.647Z</td>\n",
       "      <td>Bakerloo</td>\n",
       "      <td>Good Service</td>\n",
       "      <td>NaN</td>\n",
       "    </tr>\n",
       "    <tr>\n",
       "      <th>1</th>\n",
       "      <td>2024-05-14T14:35:06.63Z</td>\n",
       "      <td>Central</td>\n",
       "      <td>Minor Delays</td>\n",
       "      <td>Central Line: Minor delays between Epping and ...</td>\n",
       "    </tr>\n",
       "    <tr>\n",
       "      <th>2</th>\n",
       "      <td>2024-05-14T14:35:06.647Z</td>\n",
       "      <td>Circle</td>\n",
       "      <td>Good Service</td>\n",
       "      <td>NaN</td>\n",
       "    </tr>\n",
       "    <tr>\n",
       "      <th>3</th>\n",
       "      <td>2024-05-14T14:35:06.63Z</td>\n",
       "      <td>District</td>\n",
       "      <td>Good Service</td>\n",
       "      <td>NaN</td>\n",
       "    </tr>\n",
       "    <tr>\n",
       "      <th>4</th>\n",
       "      <td>2024-05-14T14:35:06.647Z</td>\n",
       "      <td>Hammersmith &amp; City</td>\n",
       "      <td>Good Service</td>\n",
       "      <td>NaN</td>\n",
       "    </tr>\n",
       "    <tr>\n",
       "      <th>5</th>\n",
       "      <td>2024-05-14T14:35:06.63Z</td>\n",
       "      <td>Jubilee</td>\n",
       "      <td>Good Service</td>\n",
       "      <td>NaN</td>\n",
       "    </tr>\n",
       "    <tr>\n",
       "      <th>6</th>\n",
       "      <td>2024-05-14T14:35:06.647Z</td>\n",
       "      <td>Metropolitan</td>\n",
       "      <td>Good Service</td>\n",
       "      <td>NaN</td>\n",
       "    </tr>\n",
       "    <tr>\n",
       "      <th>7</th>\n",
       "      <td>2024-05-14T14:35:06.647Z</td>\n",
       "      <td>Northern</td>\n",
       "      <td>Good Service</td>\n",
       "      <td>NaN</td>\n",
       "    </tr>\n",
       "    <tr>\n",
       "      <th>8</th>\n",
       "      <td>2024-05-14T14:35:06.63Z</td>\n",
       "      <td>Piccadilly</td>\n",
       "      <td>Good Service</td>\n",
       "      <td>NaN</td>\n",
       "    </tr>\n",
       "    <tr>\n",
       "      <th>9</th>\n",
       "      <td>2024-05-14T14:35:06.617Z</td>\n",
       "      <td>Victoria</td>\n",
       "      <td>Minor Delays</td>\n",
       "      <td>Victoria Line: Minor delays while we fix a poi...</td>\n",
       "    </tr>\n",
       "    <tr>\n",
       "      <th>10</th>\n",
       "      <td>2024-05-14T14:35:06.617Z</td>\n",
       "      <td>Waterloo &amp; City</td>\n",
       "      <td>Good Service</td>\n",
       "      <td>NaN</td>\n",
       "    </tr>\n",
       "  </tbody>\n",
       "</table>\n",
       "</div>"
      ]
     },
     "metadata": {
      "application/vnd.databricks.v1+output": {
       "addedWidgets": {},
       "arguments": {},
       "data": "<div>\n<style scoped>\n    .dataframe tbody tr th:only-of-type {\n        vertical-align: middle;\n    }\n\n    .dataframe tbody tr th {\n        vertical-align: top;\n    }\n\n    .dataframe thead th {\n        text-align: right;\n    }\n</style>\n<table border=\"1\" class=\"dataframe\">\n  <thead>\n    <tr style=\"text-align: right;\">\n      <th></th>\n      <th>current_timestamp</th>\n      <th>line</th>\n      <th>status</th>\n      <th>disruption_reason</th>\n    </tr>\n  </thead>\n  <tbody>\n    <tr>\n      <th>0</th>\n      <td>2024-05-14T14:35:06.647Z</td>\n      <td>Bakerloo</td>\n      <td>Good Service</td>\n      <td>NaN</td>\n    </tr>\n    <tr>\n      <th>1</th>\n      <td>2024-05-14T14:35:06.63Z</td>\n      <td>Central</td>\n      <td>Minor Delays</td>\n      <td>Central Line: Minor delays between Epping and ...</td>\n    </tr>\n    <tr>\n      <th>2</th>\n      <td>2024-05-14T14:35:06.647Z</td>\n      <td>Circle</td>\n      <td>Good Service</td>\n      <td>NaN</td>\n    </tr>\n    <tr>\n      <th>3</th>\n      <td>2024-05-14T14:35:06.63Z</td>\n      <td>District</td>\n      <td>Good Service</td>\n      <td>NaN</td>\n    </tr>\n    <tr>\n      <th>4</th>\n      <td>2024-05-14T14:35:06.647Z</td>\n      <td>Hammersmith &amp; City</td>\n      <td>Good Service</td>\n      <td>NaN</td>\n    </tr>\n    <tr>\n      <th>5</th>\n      <td>2024-05-14T14:35:06.63Z</td>\n      <td>Jubilee</td>\n      <td>Good Service</td>\n      <td>NaN</td>\n    </tr>\n    <tr>\n      <th>6</th>\n      <td>2024-05-14T14:35:06.647Z</td>\n      <td>Metropolitan</td>\n      <td>Good Service</td>\n      <td>NaN</td>\n    </tr>\n    <tr>\n      <th>7</th>\n      <td>2024-05-14T14:35:06.647Z</td>\n      <td>Northern</td>\n      <td>Good Service</td>\n      <td>NaN</td>\n    </tr>\n    <tr>\n      <th>8</th>\n      <td>2024-05-14T14:35:06.63Z</td>\n      <td>Piccadilly</td>\n      <td>Good Service</td>\n      <td>NaN</td>\n    </tr>\n    <tr>\n      <th>9</th>\n      <td>2024-05-14T14:35:06.617Z</td>\n      <td>Victoria</td>\n      <td>Minor Delays</td>\n      <td>Victoria Line: Minor delays while we fix a poi...</td>\n    </tr>\n    <tr>\n      <th>10</th>\n      <td>2024-05-14T14:35:06.617Z</td>\n      <td>Waterloo &amp; City</td>\n      <td>Good Service</td>\n      <td>NaN</td>\n    </tr>\n  </tbody>\n</table>\n</div>",
       "datasetInfos": [],
       "metadata": {},
       "removedWidgets": [],
       "textData": null,
       "type": "htmlSandbox"
      }
     },
     "output_type": "display_data"
    }
   ],
   "source": [
    "%python\n",
    "df"
   ]
  },
  {
   "cell_type": "markdown",
   "metadata": {
    "application/vnd.databricks.v1+cell": {
     "cellMetadata": {},
     "inputWidgets": {},
     "nuid": "c44879c6-68d9-46fb-9977-8a0a04a5570f",
     "showTitle": false,
     "title": ""
    }
   },
   "source": [
    "loading the dataframe into a SQL table"
   ]
  },
  {
   "cell_type": "code",
   "execution_count": 0,
   "metadata": {
    "application/vnd.databricks.v1+cell": {
     "cellMetadata": {
      "byteLimit": 2048000,
      "rowLimit": 10000
     },
     "inputWidgets": {},
     "nuid": "5c318fa9-3cfd-45fb-9e39-64213b6a5333",
     "showTitle": false,
     "title": ""
    }
   },
   "outputs": [],
   "source": [
    "%python\n",
    "spark_df = spark.createDataFrame(df)"
   ]
  },
  {
   "cell_type": "code",
   "execution_count": 0,
   "metadata": {
    "application/vnd.databricks.v1+cell": {
     "cellMetadata": {
      "byteLimit": 2048000,
      "rowLimit": 10000
     },
     "inputWidgets": {},
     "nuid": "34e1afaf-48c2-44a7-afc4-c30804f0d9de",
     "showTitle": false,
     "title": ""
    }
   },
   "outputs": [],
   "source": [
    "%python\n",
    "spark_df.write.mode(\"overwrite\").saveAsTable(\"tfl_status.status\")"
   ]
  },
  {
   "cell_type": "code",
   "execution_count": 0,
   "metadata": {
    "application/vnd.databricks.v1+cell": {
     "cellMetadata": {
      "byteLimit": 2048000,
      "rowLimit": 10000
     },
     "inputWidgets": {},
     "nuid": "aff2f53b-26ea-410a-a2a3-3e90ff29ca1b",
     "showTitle": false,
     "title": ""
    }
   },
   "outputs": [
    {
     "output_type": "stream",
     "name": "stdout",
     "output_type": "stream",
     "text": [
      "Out[6]: DataFrame[current_timestamp: string, line: string, status: string, disruption_reason: string]"
     ]
    }
   ],
   "source": [
    "%python\n",
    "spark.sql('select * from tfl_status.status')"
   ]
  },
  {
   "cell_type": "code",
   "execution_count": 0,
   "metadata": {
    "application/vnd.databricks.v1+cell": {
     "cellMetadata": {
      "byteLimit": 2048000,
      "rowLimit": 10000
     },
     "inputWidgets": {},
     "nuid": "80f4a128-52a2-4623-872b-67108c6ca0f2",
     "showTitle": false,
     "title": ""
    }
   },
   "outputs": [
    {
     "output_type": "display_data",
     "data": {
      "text/html": [
       "<style scoped>\n",
       "  .table-result-container {\n",
       "    max-height: 300px;\n",
       "    overflow: auto;\n",
       "  }\n",
       "  table, th, td {\n",
       "    border: 1px solid black;\n",
       "    border-collapse: collapse;\n",
       "  }\n",
       "  th, td {\n",
       "    padding: 5px;\n",
       "  }\n",
       "  th {\n",
       "    text-align: left;\n",
       "  }\n",
       "</style><div class='table-result-container'><table class='table-result'><thead style='background-color: white'><tr></tr></thead><tbody></tbody></table></div>"
      ]
     },
     "metadata": {
      "application/vnd.databricks.v1+output": {
       "addedWidgets": {},
       "aggData": [],
       "aggError": "",
       "aggOverflow": false,
       "aggSchema": [],
       "aggSeriesLimitReached": false,
       "aggType": "",
       "arguments": {},
       "columnCustomDisplayInfos": {},
       "data": [],
       "datasetInfos": [],
       "dbfsResultPath": null,
       "isJsonSchema": true,
       "metadata": {
        "isDbfsCommandResult": false
       },
       "overflow": false,
       "plotOptions": {
        "customPlotOptions": {},
        "displayType": "table",
        "pivotAggregation": null,
        "pivotColumns": null,
        "xColumns": null,
        "yColumns": null
       },
       "removedWidgets": [],
       "schema": [],
       "type": "table"
      }
     },
     "output_type": "display_data"
    }
   ],
   "source": [
    "%sql\n",
    "CREATE DATABASE tfl_status;"
   ]
  },
  {
   "cell_type": "code",
   "execution_count": 0,
   "metadata": {
    "application/vnd.databricks.v1+cell": {
     "cellMetadata": {
      "byteLimit": 2048000,
      "rowLimit": 10000
     },
     "inputWidgets": {},
     "nuid": "be99820e-0cf7-46c5-8c2d-c3c836068a44",
     "showTitle": false,
     "title": ""
    }
   },
   "outputs": [
    {
     "output_type": "display_data",
     "data": {
      "text/html": [
       "<style scoped>\n",
       "  .table-result-container {\n",
       "    max-height: 300px;\n",
       "    overflow: auto;\n",
       "  }\n",
       "  table, th, td {\n",
       "    border: 1px solid black;\n",
       "    border-collapse: collapse;\n",
       "  }\n",
       "  th, td {\n",
       "    padding: 5px;\n",
       "  }\n",
       "  th {\n",
       "    text-align: left;\n",
       "  }\n",
       "</style><div class='table-result-container'><table class='table-result'><thead style='background-color: white'><tr></tr></thead><tbody></tbody></table></div>"
      ]
     },
     "metadata": {
      "application/vnd.databricks.v1+output": {
       "addedWidgets": {},
       "aggData": [],
       "aggError": "",
       "aggOverflow": false,
       "aggSchema": [],
       "aggSeriesLimitReached": false,
       "aggType": "",
       "arguments": {},
       "columnCustomDisplayInfos": {},
       "data": [],
       "datasetInfos": [],
       "dbfsResultPath": null,
       "isJsonSchema": true,
       "metadata": {
        "isDbfsCommandResult": false
       },
       "overflow": false,
       "plotOptions": {
        "customPlotOptions": {},
        "displayType": "table",
        "pivotAggregation": null,
        "pivotColumns": null,
        "xColumns": null,
        "yColumns": null
       },
       "removedWidgets": [],
       "schema": [],
       "type": "table"
      }
     },
     "output_type": "display_data"
    }
   ],
   "source": [
    "%sql\n",
    "CREATE TABLE status (\n",
    "\tcurrent_timestamp varchar(50),\n",
    "\tline varchar(20),\n",
    "  status varchar(20),\n",
    "  disruption_reason varchar(255)\n",
    ");"
   ]
  },
  {
   "cell_type": "code",
   "execution_count": 0,
   "metadata": {
    "application/vnd.databricks.v1+cell": {
     "cellMetadata": {
      "byteLimit": 2048000,
      "implicitDf": true,
      "rowLimit": 10000
     },
     "inputWidgets": {},
     "nuid": "752dff6c-10fc-462b-a21c-56fba5cc3ab3",
     "showTitle": false,
     "title": ""
    }
   },
   "outputs": [
    {
     "output_type": "display_data",
     "data": {
      "text/html": [
       "<style scoped>\n",
       "  .table-result-container {\n",
       "    max-height: 300px;\n",
       "    overflow: auto;\n",
       "  }\n",
       "  table, th, td {\n",
       "    border: 1px solid black;\n",
       "    border-collapse: collapse;\n",
       "  }\n",
       "  th, td {\n",
       "    padding: 5px;\n",
       "  }\n",
       "  th {\n",
       "    text-align: left;\n",
       "  }\n",
       "</style><div class='table-result-container'><table class='table-result'><thead style='background-color: white'><tr><th>current_timestamp</th><th>line</th><th>status</th><th>disruption_reason</th></tr></thead><tbody><tr><td>2024-05-14T14:35:06.647Z</td><td>Bakerloo</td><td>Good Service</td><td>null</td></tr><tr><td>2024-05-14T14:35:06.63Z</td><td>Central</td><td>Minor Delays</td><td>Central Line: Minor delays between Epping and Leytonstone due to an earlier trespasser on the track at Leytonstone. GOOD SERVICE on the rest of the line. </td></tr><tr><td>2024-05-14T14:35:06.647Z</td><td>Circle</td><td>Good Service</td><td>null</td></tr><tr><td>2024-05-14T14:35:06.63Z</td><td>District</td><td>Good Service</td><td>null</td></tr><tr><td>2024-05-14T14:35:06.647Z</td><td>Hammersmith & City</td><td>Good Service</td><td>null</td></tr><tr><td>2024-05-14T14:35:06.63Z</td><td>Jubilee</td><td>Good Service</td><td>null</td></tr><tr><td>2024-05-14T14:35:06.647Z</td><td>Metropolitan</td><td>Good Service</td><td>null</td></tr><tr><td>2024-05-14T14:35:06.647Z</td><td>Northern</td><td>Good Service</td><td>null</td></tr><tr><td>2024-05-14T14:35:06.63Z</td><td>Piccadilly</td><td>Good Service</td><td>null</td></tr><tr><td>2024-05-14T14:35:06.617Z</td><td>Victoria</td><td>Minor Delays</td><td>Victoria Line: Minor delays while we fix a points failure at Brixton. </td></tr><tr><td>2024-05-14T14:35:06.617Z</td><td>Waterloo & City</td><td>Good Service</td><td>null</td></tr></tbody></table></div>"
      ]
     },
     "metadata": {
      "application/vnd.databricks.v1+output": {
       "addedWidgets": {},
       "aggData": [],
       "aggError": "",
       "aggOverflow": false,
       "aggSchema": [],
       "aggSeriesLimitReached": false,
       "aggType": "",
       "arguments": {},
       "columnCustomDisplayInfos": {},
       "data": [
        [
         "2024-05-14T14:35:06.647Z",
         "Bakerloo",
         "Good Service",
         null
        ],
        [
         "2024-05-14T14:35:06.63Z",
         "Central",
         "Minor Delays",
         "Central Line: Minor delays between Epping and Leytonstone due to an earlier trespasser on the track at Leytonstone. GOOD SERVICE on the rest of the line. "
        ],
        [
         "2024-05-14T14:35:06.647Z",
         "Circle",
         "Good Service",
         null
        ],
        [
         "2024-05-14T14:35:06.63Z",
         "District",
         "Good Service",
         null
        ],
        [
         "2024-05-14T14:35:06.647Z",
         "Hammersmith & City",
         "Good Service",
         null
        ],
        [
         "2024-05-14T14:35:06.63Z",
         "Jubilee",
         "Good Service",
         null
        ],
        [
         "2024-05-14T14:35:06.647Z",
         "Metropolitan",
         "Good Service",
         null
        ],
        [
         "2024-05-14T14:35:06.647Z",
         "Northern",
         "Good Service",
         null
        ],
        [
         "2024-05-14T14:35:06.63Z",
         "Piccadilly",
         "Good Service",
         null
        ],
        [
         "2024-05-14T14:35:06.617Z",
         "Victoria",
         "Minor Delays",
         "Victoria Line: Minor delays while we fix a points failure at Brixton. "
        ],
        [
         "2024-05-14T14:35:06.617Z",
         "Waterloo & City",
         "Good Service",
         null
        ]
       ],
       "datasetInfos": [],
       "dbfsResultPath": null,
       "isJsonSchema": true,
       "metadata": {},
       "overflow": false,
       "plotOptions": {
        "customPlotOptions": {},
        "displayType": "table",
        "pivotAggregation": null,
        "pivotColumns": null,
        "xColumns": null,
        "yColumns": null
       },
       "removedWidgets": [],
       "schema": [
        {
         "metadata": "{}",
         "name": "current_timestamp",
         "type": "\"string\""
        },
        {
         "metadata": "{}",
         "name": "line",
         "type": "\"string\""
        },
        {
         "metadata": "{}",
         "name": "status",
         "type": "\"string\""
        },
        {
         "metadata": "{}",
         "name": "disruption_reason",
         "type": "\"string\""
        }
       ],
       "type": "table"
      }
     },
     "output_type": "display_data"
    }
   ],
   "source": [
    "%sql\n",
    "select * from tfl_status.status;"
   ]
  }
 ],
 "metadata": {
  "application/vnd.databricks.v1+notebook": {
   "dashboards": [],
   "environmentMetadata": null,
   "language": "python",
   "notebookMetadata": {
    "mostRecentlyExecutedCommandWithImplicitDF": {
     "commandId": 4136594557323470,
     "dataframes": [
      "_sqldf"
     ]
    },
    "pythonIndentUnit": 4
   },
   "notebookName": "kpmg technical",
   "widgets": {}
  }
 },
 "nbformat": 4,
 "nbformat_minor": 0
}
